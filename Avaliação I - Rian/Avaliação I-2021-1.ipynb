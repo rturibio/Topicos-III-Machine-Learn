{
 "cells": [
  {
   "attachments": {
    "image.png": {
     "image/png": "[encoded data removed]"
    }
   },
   "cell_type": "markdown",
   "metadata": {},
   "source": [
    "### 1) Considerando duas listas de strings em que cada lista possua valores repetidos calcule o ângule vetorial através do cosseno, conforme equação abaixo:\n",
    "\n",
    "O cosseno de dois vectores não zerados podem ser derivados utilizando a fórmula do produto dos pontos. A partir de dois vetores n-dimensionais, A e B, a similaridade do cosseno, cos(θ), é representado utilizando o produto dos pontos e a magnitude dos vetores como:\n",
    "![image.png](attachment:image.png)\n",
    "\n",
    "Obs: Será necessário importar a biblioteca math -> import math"
   ]
  },
  {
   "cell_type": "markdown",
   "metadata": {},
   "source": [
    "### 2) De maneira iterativa até que determinada condição seja alcançada, capture determinado conteúdo informado pelo usuário através do teclado e armazene em um arquivo."
   ]
  },
  {
   "cell_type": "markdown",
   "metadata": {},
   "source": [
    "### 3) Crie em memória uma matriz de valores aleatórios utilizando NumPy e DataFrame e depois armazene a matriz em um arquivo. Após isso carregue a matriz salva e calcule o seu traço de maneira iterativa, ou seja, itere sobre linhas e colunas para calcular o traço."
   ]
  },
  {
   "cell_type": "markdown",
   "metadata": {},
   "source": [
    "### 4) Crie um conjunto de dados com 3 colunas. Após isso crie mais uma coluna e incorpore ao conjunto de dados inicial. De maneira iterativa, indique determinada linha e coluna para ser recuperada até que determinada condição seja informada para finalizar a iteração."
   ]
  },
  {
   "cell_type": "markdown",
   "metadata": {},
   "source": [
    "### 5) Crie um arquivo em formato JSON e carregue o mesmo para um objeto. Após isso, de maneira iterativa informe determinado caminho para recuperar valores que constam no objeto JSON até que uma condição específica seja atingida.  "
   ]
  },
  {
   "cell_type": "markdown",
   "metadata": {},
   "source": [
    "### 6)  Crie um conjunto de dados (DataFrame) contendo duas colunas. Depois crie mais um conjunto de dados com duas colunas em que a primeira coluna tenha os mesmos valores da primeira coluna do primeiro conjunto. Após isso, vincule/integre a segunda coluna do segundo conjunto ao primeiro conjunto levando em consideração as primeiras colunas dos dois conjuntos. Por fim, realize algumas recuperações de dados considerando uma e mais de uma coluna. "
   ]
  },
  {
   "cell_type": "markdown",
   "metadata": {},
   "source": [
    "### 7) Crie um conjunto de dados de maneira randômica com algumas centenas de linhas e algumas colunas. Analise o conjunto de dados resultante de defina um número. A partir disso modifique o conjunto de dados de modo que em nenhuma das colunas o valor mínimo e máximo seja excedido ao número definido. Ao final apresente as informações estatísticas do conjunto de dados para todas as colunas (contagem, média, mínimo, maxima, etc).  "
   ]
  },
  {
   "cell_type": "markdown",
   "metadata": {},
   "source": [
    "### 8) Carregue o arquivo movie.csv. Após isso para cada valor distinto na coluna genres (que devem ser separados cada vez que o caracter | ocorre) gere novas colunas e incorpore ao conjunto original atribuíndo 1. Após isso recupere o conteúdo de um intervalo de linhas do conjunto de dados."
   ]
  },
  {
   "cell_type": "markdown",
   "metadata": {},
   "source": [
    "### 9)  Crie um conjunto de dados com dois níveis hierárquicos de linhas e colunas. A partir do conjunto de dados realize operações de soma, média, mínimo e máximo considerando os níveis de hierarquia das linhas e colunas."
   ]
  },
  {
   "cell_type": "markdown",
   "metadata": {},
   "source": [
    "### 10) Crie dois conjuntos de dados e realize o merge dos conjuntos. A partir do conjunto resultante efetue algumas filtragens nos dados considerando uma e mais de uma coluna. "
   ]
  },
  {
   "cell_type": "markdown",
   "metadata": {},
   "source": [
    "### 11) A partir de um conjunto de dados realize a agregação de duas colunas em que os valores da primeira coluna serão as linhas e os valores da segunda coluna as colunas. Para os valores da célula utilize uma terceira coluna e uma operação de soma. O conceito de tabela de pivoteamento deve ser utilizado. Por fim, os dados da tabela resultante deve ser plotadas em um gráfico de barras."
   ]
  },
  {
   "cell_type": "markdown",
   "metadata": {},
   "source": [
    "### 12) Considerando o conjunto de dados 2015_USPTOf.json (patentes americanas) realize as devidas transformações para que cada um dos valores que fazem parte do atributo \"Subclass_labels\", visto que o atributo é um <i>array</i>, se torne uma coluna que deve ser adicionada ao conjunto de dados original. Além disso, considerando determinada linha, as colunas que são identificadas pelos valores distintos do atributo \"Subclass_labels\" devem ter o valor 1 atribuido. Ou seja, somente a coluna que se refere a determinada classe de uma patente deve ser preenchida com 1. Ao final realize o somatório de cada uma das colunas adicionadas (referentes aos valores do atributo  \"Subclass_labels\") e apresente um histograma através de um gráfico de barras horizontal partindo das classes que mais ocorrem para àquelas que menos ocorrem. Apresente somente as 10 primeiras classes."
   ]
  },
  {
   "cell_type": "markdown",
   "metadata": {},
   "source": [
    "### 13) Utilizando alguma API obtenha dados de fontes que contenham dados abertos, tais como, redes sociais ou web sites. A partir disso, realize as devidas transformações para que os dados coletados sejam estruturados em um DataFrame do Pandas. Com os dados estruturados utilize alguma função de agregação (soma, média, contagem) projetando o resultado de maneira gráfica (1,0). Obs: recupere somente dados que estejam disponíveis via a API utilizada.      "
   ]
  },
  {
   "cell_type": "code",
   "execution_count": null,
   "metadata": {},
   "outputs": [],
   "source": []
  }
 ],
 "metadata": {
  "kernelspec": {
   "display_name": "Python 3",
   "language": "python",
   "name": "python3"
  },
  "language_info": {
   "codemirror_mode": {
    "name": "ipython",
    "version": 3
   },
   "file_extension": ".py",
   "mimetype": "text/x-python",
   "name": "python",
   "nbconvert_exporter": "python",
   "pygments_lexer": "ipython3",
   "version": "3.8.8"
  }
 },
 "nbformat": 4,
 "nbformat_minor": 2
}
