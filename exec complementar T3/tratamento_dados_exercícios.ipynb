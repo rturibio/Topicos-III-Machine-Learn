{
 "cells": [
  {
   "cell_type": "code",
   "execution_count": 2,
   "metadata": {},
   "outputs": [],
   "source": [
    "import pandas as pd\n",
    "import numpy as np"
   ]
  },
  {
   "cell_type": "markdown",
   "metadata": {},
   "source": [
    "# 1) Crie um conjunto de dados com dois níveis hierárquicos de linhas e  colunas."
   ]
  },
  {
   "cell_type": "code",
   "execution_count": null,
   "metadata": {},
   "outputs": [],
   "source": []
  },
  {
   "cell_type": "markdown",
   "metadata": {},
   "source": [
    "# 2) A partir dos conjunto de dados realize operações de soma, média, mínimo e máximo considerando os níveis de hierarquia das linhas."
   ]
  },
  {
   "cell_type": "code",
   "execution_count": null,
   "metadata": {},
   "outputs": [],
   "source": []
  },
  {
   "cell_type": "markdown",
   "metadata": {},
   "source": [
    "# 3) Agora realize uma agregação (soma, por exemplo) considerando uma das colunas, ou seja, axis=1."
   ]
  },
  {
   "cell_type": "code",
   "execution_count": null,
   "metadata": {},
   "outputs": [],
   "source": []
  },
  {
   "cell_type": "markdown",
   "metadata": {},
   "source": [
    "# 4) Crie dois conjuntos de dados (muitos-para-um) e aplique uma junção interna e uma junção externa."
   ]
  },
  {
   "cell_type": "code",
   "execution_count": null,
   "metadata": {},
   "outputs": [],
   "source": []
  },
  {
   "cell_type": "markdown",
   "metadata": {},
   "source": [
    "# 5) Localize linhas do conjunto de dados combinado considerando determinado critério de localização. "
   ]
  },
  {
   "cell_type": "code",
   "execution_count": null,
   "metadata": {},
   "outputs": [],
   "source": []
  },
  {
   "cell_type": "markdown",
   "metadata": {},
   "source": [
    "# 6) Com base no conjunto de dados abaixo realize algumas consultas utilizando o método loc."
   ]
  },
  {
   "cell_type": "code",
   "execution_count": 3,
   "metadata": {},
   "outputs": [
    {
     "data": {
      "text/html": [
       "<div>\n",
       "<style scoped>\n",
       "    .dataframe tbody tr th:only-of-type {\n",
       "        vertical-align: middle;\n",
       "    }\n",
       "\n",
       "    .dataframe tbody tr th {\n",
       "        vertical-align: top;\n",
       "    }\n",
       "\n",
       "    .dataframe thead th {\n",
       "        text-align: right;\n",
       "    }\n",
       "</style>\n",
       "<table border=\"1\" class=\"dataframe\">\n",
       "  <thead>\n",
       "    <tr style=\"text-align: right;\">\n",
       "      <th></th>\n",
       "      <th>Age</th>\n",
       "      <th>Color</th>\n",
       "      <th>Food</th>\n",
       "      <th>Height</th>\n",
       "      <th>Score</th>\n",
       "      <th>State</th>\n",
       "    </tr>\n",
       "  </thead>\n",
       "  <tbody>\n",
       "    <tr>\n",
       "      <th>Jane</th>\n",
       "      <td>30</td>\n",
       "      <td>Blue</td>\n",
       "      <td>Steak</td>\n",
       "      <td>165</td>\n",
       "      <td>4.6</td>\n",
       "      <td>NY</td>\n",
       "    </tr>\n",
       "    <tr>\n",
       "      <th>Nick</th>\n",
       "      <td>20</td>\n",
       "      <td>Green</td>\n",
       "      <td>Lamb</td>\n",
       "      <td>170</td>\n",
       "      <td>8.3</td>\n",
       "      <td>TX</td>\n",
       "    </tr>\n",
       "    <tr>\n",
       "      <th>Aaron</th>\n",
       "      <td>22</td>\n",
       "      <td>Red</td>\n",
       "      <td>Mango</td>\n",
       "      <td>120</td>\n",
       "      <td>9.0</td>\n",
       "      <td>FL</td>\n",
       "    </tr>\n",
       "    <tr>\n",
       "      <th>Penelope</th>\n",
       "      <td>40</td>\n",
       "      <td>White</td>\n",
       "      <td>Apple</td>\n",
       "      <td>80</td>\n",
       "      <td>3.3</td>\n",
       "      <td>AL</td>\n",
       "    </tr>\n",
       "    <tr>\n",
       "      <th>Dean</th>\n",
       "      <td>32</td>\n",
       "      <td>Gray</td>\n",
       "      <td>Cheese</td>\n",
       "      <td>180</td>\n",
       "      <td>1.8</td>\n",
       "      <td>AK</td>\n",
       "    </tr>\n",
       "    <tr>\n",
       "      <th>Christina</th>\n",
       "      <td>28</td>\n",
       "      <td>Black</td>\n",
       "      <td>Melon</td>\n",
       "      <td>172</td>\n",
       "      <td>9.5</td>\n",
       "      <td>TX</td>\n",
       "    </tr>\n",
       "    <tr>\n",
       "      <th>John</th>\n",
       "      <td>39</td>\n",
       "      <td>Red</td>\n",
       "      <td>Beans</td>\n",
       "      <td>150</td>\n",
       "      <td>2.2</td>\n",
       "      <td>TX</td>\n",
       "    </tr>\n",
       "  </tbody>\n",
       "</table>\n",
       "</div>"
      ],
      "text/plain": [
       "           Age  Color    Food  Height  Score State\n",
       "Jane        30   Blue   Steak     165    4.6    NY\n",
       "Nick        20  Green    Lamb     170    8.3    TX\n",
       "Aaron       22    Red   Mango     120    9.0    FL\n",
       "Penelope    40  White   Apple      80    3.3    AL\n",
       "Dean        32   Gray  Cheese     180    1.8    AK\n",
       "Christina   28  Black   Melon     172    9.5    TX\n",
       "John        39    Red   Beans     150    2.2    TX"
      ]
     },
     "execution_count": 3,
     "metadata": {},
     "output_type": "execute_result"
    }
   ],
   "source": [
    "df = pd.DataFrame({'Age': [30, 20, 22, 40, 32, 28, 39],\n",
    "                   'Color': ['Blue', 'Green', 'Red', 'White', 'Gray', 'Black',\n",
    "                             'Red'],\n",
    "                   'Food': ['Steak', 'Lamb', 'Mango', 'Apple', 'Cheese',\n",
    "                            'Melon', 'Beans'],\n",
    "                   'Height': [165, 170, 120, 80, 180, 172, 150],\n",
    "                   'Score': [4.6, 8.3, 9.0, 3.3, 1.8, 9.5, 2.2],\n",
    "                   'State': ['NY', 'TX', 'FL', 'AL', 'AK', 'TX', 'TX']\n",
    "                   },\n",
    "                  index=['Jane', 'Nick', 'Aaron', 'Penelope', 'Dean',\n",
    "                         'Christina', 'John'])\n",
    "df"
   ]
  },
  {
   "cell_type": "markdown",
   "metadata": {},
   "source": [
    "# 7) Crie três conjuntos de dados para representar uma relação N:M (Médico, Paciente e Consulta). A partir dos conjuntos realize a integração (merge)."
   ]
  },
  {
   "cell_type": "code",
   "execution_count": null,
   "metadata": {},
   "outputs": [],
   "source": []
  }
 ],
 "metadata": {
  "kernelspec": {
   "display_name": "Python 3",
   "language": "python",
   "name": "python3"
  },
  "language_info": {
   "codemirror_mode": {
    "name": "ipython",
    "version": 3
   },
   "file_extension": ".py",
   "mimetype": "text/x-python",
   "name": "python",
   "nbconvert_exporter": "python",
   "pygments_lexer": "ipython3",
   "version": "3.7.3"
  }
 },
 "nbformat": 4,
 "nbformat_minor": 2
}
